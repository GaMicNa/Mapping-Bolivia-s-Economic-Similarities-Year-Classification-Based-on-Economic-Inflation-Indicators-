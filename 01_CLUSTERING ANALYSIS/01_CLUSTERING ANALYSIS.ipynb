{
 "cells": [
  {
   "cell_type": "markdown",
   "metadata": {},
   "source": [
    "**1. Load an explore data**"
   ]
  },
  {
   "cell_type": "code",
   "execution_count": 2,
   "metadata": {},
   "outputs": [
    {
     "name": "stdout",
     "output_type": "stream",
     "text": [
      "   Year  Consumer price index (2010 = 100)  Inflation consumer prices (%)  \\\n",
      "0  1976                           0.000102                       4.494012   \n",
      "1  1977                           0.000110                       8.107256   \n",
      "2  1978                           0.000122                      10.355672   \n",
      "3  1979                           0.000146                      19.719717   \n",
      "4  1980                           0.000215                      47.241650   \n",
      "\n",
      "   Inflation  GDP deflator (%)  Lending interest rate (%)  \\\n",
      "0                     8.598921                        NaN   \n",
      "1                    12.540618                        NaN   \n",
      "2                    14.103811                        NaN   \n",
      "3                    19.797174                        NaN   \n",
      "4                    25.048944                        NaN   \n",
      "\n",
      "   Real interest rate (%)  Total debt service  Total debt service (% of GNI)  \\\n",
      "0                     NaN           22.568226                       5.314133   \n",
      "1                     NaN           24.839736                       5.504637   \n",
      "2                     NaN           53.458726                      10.351174   \n",
      "3                     NaN           34.108834                       6.888772   \n",
      "4                     NaN           35.460326                       8.866880   \n",
      "\n",
      "   Current account balance (% of GDP)  Current account balance (US$)  \\\n",
      "0                           -1.957305                    -53500000.0   \n",
      "1                           -3.651229                   -117900000.0   \n",
      "2                           -8.816255                   -331500000.0   \n",
      "3                           -8.801685                   -397000000.0   \n",
      "4                           -0.143808                     -6400000.0   \n",
      "\n",
      "   Trade (% of GDP)  Total Population  \\\n",
      "0         57.563064           5244355   \n",
      "1         56.419071           5363917   \n",
      "2         52.703386           5486132   \n",
      "3         51.570779           5610380   \n",
      "4         46.813008           5736088   \n",
      "\n",
      "   Current account balance by population ($)  \n",
      "0                                 -10.201445  \n",
      "1                                 -21.980206  \n",
      "2                                 -60.425086  \n",
      "3                                 -70.761695  \n",
      "4                                  -1.115743  \n"
     ]
    }
   ],
   "source": [
    "import pandas as pd\n",
    "\n",
    "# Cargar el dataset (ajusta la ruta si es necesario)\n",
    "df = pd.read_csv(r'00_DATASET/ECONOMIC INFLATION INDICATORS.csv')\n",
    "\n",
    "# Visualizar las primeras filas\n",
    "print(df.head())\n"
   ]
  },
  {
   "cell_type": "code",
   "execution_count": 3,
   "metadata": {},
   "outputs": [
    {
     "name": "stdout",
     "output_type": "stream",
     "text": [
      "<class 'pandas.core.frame.DataFrame'>\n",
      "RangeIndex: 48 entries, 0 to 47\n",
      "Data columns (total 13 columns):\n",
      " #   Column                                     Non-Null Count  Dtype  \n",
      "---  ------                                     --------------  -----  \n",
      " 0   Year                                       48 non-null     int64  \n",
      " 1   Consumer price index (2010 = 100)          48 non-null     float64\n",
      " 2   Inflation consumer prices (%)              48 non-null     float64\n",
      " 3   Inflation  GDP deflator (%)                48 non-null     float64\n",
      " 4   Lending interest rate (%)                  37 non-null     float64\n",
      " 5   Real interest rate (%)                     37 non-null     float64\n",
      " 6   Total debt service                         47 non-null     float64\n",
      " 7   Total debt service (% of GNI)              47 non-null     float64\n",
      " 8   Current account balance (% of GDP)         48 non-null     float64\n",
      " 9   Current account balance (US$)              48 non-null     float64\n",
      " 10  Trade (% of GDP)                           48 non-null     float64\n",
      " 11  Total Population                           48 non-null     int64  \n",
      " 12  Current account balance by population ($)  48 non-null     float64\n",
      "dtypes: float64(11), int64(2)\n",
      "memory usage: 5.0 KB\n",
      "None\n"
     ]
    }
   ],
   "source": [
    "print(df.info())"
   ]
  },
  {
   "cell_type": "markdown",
   "metadata": {},
   "source": [
    "**2. Data preprocessing**"
   ]
  },
  {
   "cell_type": "code",
   "execution_count": 4,
   "metadata": {},
   "outputs": [],
   "source": [
    "# The missing values ​​were filled with the median of each column.\n",
    "df.fillna(df.median(), inplace=True)\n"
   ]
  },
  {
   "cell_type": "code",
   "execution_count": 5,
   "metadata": {},
   "outputs": [],
   "source": [
    "# Data normalization processing was performed.\n",
    "from sklearn.preprocessing import StandardScaler\n",
    "\n",
    "# The 'year' column was excluded since we will not use it in the clustering\n",
    "X = df.drop(columns=['Year', 'Total debt service (% of GNI)', 'Trade (% of GDP)', 'Total Population'])\n",
    "\n",
    "# Normalize the features\n",
    "scaler = StandardScaler()\n",
    "X_scaled = scaler.fit_transform(X)\n"
   ]
  },
  {
   "cell_type": "code",
   "execution_count": 6,
   "metadata": {},
   "outputs": [
    {
     "name": "stdout",
     "output_type": "stream",
     "text": [
      "[[-1.26044140e+00 -1.71736242e-01 -1.69595220e-01 -4.82637158e-01\n",
      "  -3.45970762e-01 -2.72399065e-01  2.12589141e-02  4.10555166e-02\n",
      "   5.05253556e-02]\n",
      " [-1.26044124e+00 -1.69587609e-01 -1.67364838e-01 -4.82637158e-01\n",
      "  -3.45970762e-01 -1.25494597e-01 -2.75980405e-01 -3.00049392e-02\n",
      "  -8.42816151e-02]\n",
      " [-1.26044102e+00 -1.68250576e-01 -1.66480317e-01 -4.82637158e-01\n",
      "  -3.45970762e-01  1.72537029e+00 -1.18230754e+00 -2.65696140e-01\n",
      "  -5.24280186e-01]\n",
      " [-1.26044056e+00 -1.62682200e-01 -1.63258769e-01 -4.82637158e-01\n",
      "  -3.45970762e-01  4.73962210e-01 -1.17975089e+00 -3.37970362e-01\n",
      "  -6.42581845e-01]\n",
      " [-1.26043925e+00 -1.46316144e-01 -1.60287092e-01 -4.82637158e-01\n",
      "  -3.45970762e-01  5.61366707e-01  3.39480215e-01  9.30267506e-02\n",
      "   1.54510488e-01]\n",
      " [-1.26043793e+00 -1.55300221e-01 -1.57776396e-01 -4.82637158e-01\n",
      "  -3.45970762e-01  6.09885096e-01 -1.05537065e+00 -4.15921626e-01\n",
      "  -7.45591813e-01]\n",
      " [-1.26043123e+00 -1.00947492e-01 -8.48977011e-02 -4.82637158e-01\n",
      "  -3.45970762e-01  2.13216422e+00 -1.79295055e-01 -9.14931985e-02\n",
      "  -1.64398282e-01]\n",
      " [-1.26039782e+00 -1.05298571e-02 -2.44004979e-02 -4.82637158e-01\n",
      "  -3.45970762e-01  1.62200296e+00 -9.17434380e-02 -5.53108474e-02\n",
      "  -9.60647845e-02]\n",
      " [-1.25981434e+00  5.87552570e-01  6.42275120e-01 -4.82637158e-01\n",
      "  -3.45970762e-01  2.39939951e+00 -1.41028303e-01 -9.61099212e-02\n",
      "  -1.58221174e-01]\n",
      " [-1.18590824e+00  6.81257378e+00  6.80728132e+00 -4.82637158e-01\n",
      "  -3.45970762e-01  1.52098796e+00 -5.66289814e-01 -2.14717987e-01\n",
      "  -3.44061106e-01]\n",
      " [-9.79940935e-01 -1.00840537e-02 -4.42574714e-02 -4.82637158e-01\n",
      "  -3.45970762e-01  6.89882343e-01 -1.35778061e+00 -3.28771122e-01\n",
      "  -5.14754334e-01]\n",
      " [-9.39047334e-01 -1.65739333e-01 -1.66208496e-01  1.75893493e+00\n",
      "   1.27648080e+00  4.88606772e-01 -1.37969376e+00 -3.76850583e-01\n",
      "  -5.75338753e-01]\n",
      " [-8.87617250e-01 -1.64892905e-01 -1.64545403e-01  1.14184047e+00\n",
      "   3.35579637e-01  1.82056520e+00 -7.97052359e-01 -2.35788957e-01\n",
      "  -3.44735050e-01]\n",
      " [-8.31046600e-01 -1.65385650e-01 -1.66999415e-01  9.80136494e-01\n",
      "   5.27152098e-01  4.34749101e-01 -6.40284311e-01 -1.97945954e-01\n",
      "  -2.77562488e-01]\n",
      " [-7.57539138e-01 -1.64228864e-01 -1.65255759e-01  1.27136402e+00\n",
      "   5.83901531e-01  8.14094076e-01 -3.52309532e-01 -1.19382221e-01\n",
      "  -1.53510834e-01]\n",
      " [-6.49680920e-01 -1.61655021e-01 -1.64451415e-01  1.22865279e+00\n",
      "   4.16301506e-01  5.78299545e-01 -4.97669134e-01 -1.89670280e-01\n",
      "  -2.47555139e-01]\n",
      " [-5.76020995e-01 -1.67236897e-01 -1.66992182e-01  1.50860113e+00\n",
      "   1.12424435e+00  6.77107634e-01 -1.29523694e+00 -4.89029001e-01\n",
      "  -6.59078646e-01]\n",
      " [-5.17654298e-01 -1.69337484e-01 -1.70750536e-01  2.04519106e+00\n",
      "   2.42814578e+00  7.18774565e-01 -1.18204523e+00 -4.57691782e-01\n",
      "  -5.99558727e-01]\n",
      " [-4.59166760e-01 -1.69726289e-01 -1.69961158e-01  2.15402719e+00\n",
      "   2.40394047e+00  1.78135624e-01  1.00090957e-01  5.59884223e-04\n",
      "   3.31016181e-02]\n",
      " [-3.77490980e-01 -1.68347187e-01 -1.67994812e-01  1.86178400e+00\n",
      "   1.69842632e+00  2.05767306e-01 -4.25747830e-01 -2.33696867e-01\n",
      "  -2.74229969e-01]\n",
      " [-2.67779851e-01 -1.67019751e-01 -1.67908280e-01  2.17925836e+00\n",
      "   2.04775109e+00  2.87256341e-01 -5.36003466e-01 -3.18870106e-01\n",
      "  -3.76633048e-01]\n",
      " [-2.21040842e-01 -1.71608729e-01 -1.71232699e-01  1.79972175e+00\n",
      "   2.22626396e+00  3.27983056e-01 -8.60720603e-01 -5.10656097e-01\n",
      "  -6.11174047e-01]\n",
      " [-1.41285108e-01 -1.69845705e-01 -1.70471028e-01  1.11730423e+00\n",
      "   1.26268891e+00  1.83471476e-01 -1.01078642e+00 -6.34901552e-01\n",
      "  -7.52658051e-01]\n",
      " [-1.17116704e-01 -1.73124462e-01 -1.73096290e-01  8.57989853e-01\n",
      "   1.42317895e+00  1.37933091e-01 -6.68846823e-01 -4.38381875e-01\n",
      "  -4.94538434e-01]\n",
      " [-6.44295821e-02 -1.71668322e-01 -1.71521074e-01  8.08382814e-01\n",
      "   1.07522262e+00  8.45150795e-01 -5.67936912e-01 -3.92424192e-01\n",
      "  -4.27232123e-01]\n",
      " [-4.54171041e-02 -1.73463334e-01 -1.73402678e-01 -1.24236275e-01\n",
      "   2.45405017e-01  4.36928763e-01 -2.25861405e-01 -2.02262027e-01\n",
      "  -1.91284964e-01]\n",
      " [-3.41385153e-02 -1.73856635e-01 -1.72864752e-01 -8.73263598e-02\n",
      "   2.01836563e-01  1.51411622e-01 -4.16451967e-01 -2.88242256e-01\n",
      "  -2.85256973e-01]\n",
      " [ 6.78664939e-03 -1.72424102e-01 -1.70879076e-01 -2.77789657e-01\n",
      "  -3.45970762e-01 -3.46868010e-01  5.28835971e-01  1.83501814e-01\n",
      "   2.62801917e-01]\n",
      " [ 6.30184701e-02 -1.71769918e-01 -1.69952386e-01 -4.82637158e-01\n",
      "  -7.27065340e-01 -4.53181762e-01  1.03973232e+00  4.72493393e-01\n",
      "   5.86392185e-01]\n",
      " [ 1.34395824e-01 -1.71201517e-01 -1.71099299e-01 -3.45031616e-01\n",
      "  -3.93887412e-01 -7.18944370e-01  1.50850374e+00  7.86902501e-01\n",
      "   9.26954986e-01]\n",
      " [ 1.94128362e-01 -1.71862081e-01 -1.66729362e-01 -6.48046696e-01\n",
      "  -1.35026634e+00 -1.10486982e+00  2.38344601e+00  1.55381821e+00\n",
      "   1.74738040e+00]\n",
      " [ 3.20757692e-01 -1.69231795e-01 -1.70288698e-01 -5.85854544e-01\n",
      "  -8.02005831e-01 -8.29522514e-01  2.49291466e+00  1.85590662e+00\n",
      "   2.04261726e+00]\n",
      " [ 5.42233530e-01 -1.66079409e-01 -1.68586740e-01 -5.20904070e-01\n",
      "  -9.62038740e-01 -8.97583842e-01  2.46175704e+00  2.29887909e+00\n",
      "   2.47546955e+00]\n",
      " [ 6.02559286e-01 -1.72418643e-01 -1.75830137e-01 -6.18003968e-01\n",
      "   2.28889032e-02 -1.06407588e+00  1.18798515e+00  9.97767591e-01\n",
      "   1.09361640e+00]\n",
      " [ 6.49195385e-01 -1.72920043e-01 -1.69494167e-01 -7.75144816e-01\n",
      "  -1.13651957e+00 -1.11899078e+00  1.14497787e+00  1.06419993e+00\n",
      "   1.14543570e+00]\n",
      " [ 8.37952942e-01 -1.68530783e-01 -1.66198220e-01 -7.10647207e-01\n",
      "  -1.48653853e+00 -1.41999246e+00  7.58091194e-01  6.92853062e-01\n",
      "   7.58673101e-01]\n",
      " [ 9.32708187e-01 -1.71723403e-01 -1.70443217e-01 -6.96563372e-01\n",
      "  -9.12434344e-01 -1.39257176e+00  1.64105522e+00  2.27387557e+00\n",
      "   2.30044808e+00]\n",
      " [ 1.05851614e+00 -1.70997450e-01 -1.71068410e-01 -7.01922766e-01\n",
      "  -8.30002658e-01 -1.45671998e+00  9.67944958e-01  1.26307734e+00\n",
      "   1.29009049e+00]\n",
      " [ 1.19224127e+00 -1.70979491e-01 -1.73301164e-01 -7.88981262e-01\n",
      "  -6.06326813e-01 -1.28068273e+00  6.65836548e-01  7.24880766e-01\n",
      "   7.60893032e-01]\n",
      " [ 1.29181071e+00 -1.71994561e-01 -1.77075392e-01 -8.92961961e-01\n",
      "  -1.28128886e-01 -1.09176138e+00 -6.64837036e-01 -2.03636976e+00\n",
      "  -1.83087964e+00]\n",
      " [ 1.38428435e+00 -1.72254067e-01 -1.75227501e-01 -9.00738361e-01\n",
      "  -4.46571999e-01 -1.13569352e+00 -6.21320607e-01 -2.00440895e+00\n",
      "  -1.77076736e+00]\n",
      " [ 1.45893861e+00 -1.72730062e-01 -1.71031057e-01 -8.90611727e-01\n",
      "  -1.06333179e+00 -1.08365737e+00 -5.23325405e-01 -1.99447541e+00\n",
      "  -1.73251986e+00]\n",
      " [ 1.52072460e+00 -1.73057537e-01 -1.72731491e-01 -8.95271977e-01\n",
      "  -8.24805221e-01 -1.11628996e+00 -3.86603788e-01 -1.80329233e+00\n",
      "  -1.53362441e+00]\n",
      " [ 1.57188543e+00 -1.73314734e-01 -1.74852988e-01 -8.72032201e-01\n",
      "  -4.69483881e-01 -1.06159829e+00 -2.21449893e-01 -1.40729215e+00\n",
      "  -1.16025902e+00]\n",
      " [ 1.59853035e+00 -1.73849212e-01 -1.75510148e-01 -9.23818613e-01\n",
      "  -4.30923723e-01 -7.26054216e-01  3.57090442e-01  8.25268542e-02\n",
      "   1.52019355e-01]\n",
      " [ 1.61961195e+00 -1.73970140e-01 -1.72222315e-01 -8.96562895e-01\n",
      "  -9.00987138e-01 -8.12347150e-01  1.05124413e+00  1.84444742e+00\n",
      "   1.66509616e+00]\n",
      " [ 1.66990719e+00 -1.73370166e-01 -1.71561216e-01 -9.12736251e-01\n",
      "  -1.01562492e+00 -6.63368431e-01  7.39155096e-01  1.13629596e+00\n",
      "   1.04650508e+00]\n",
      " [ 1.74541904e+00 -1.72876270e-01 -1.73499177e-01 -8.56356616e-01\n",
      "  -6.60816232e-01  1.51411622e-01 -8.56703062e-02 -1.19843978e+00\n",
      "  -9.19898489e-01]]\n"
     ]
    }
   ],
   "source": [
    "print(X_scaled)"
   ]
  },
  {
   "cell_type": "markdown",
   "metadata": {},
   "source": [
    "**3. Determination of the number of groups**"
   ]
  },
  {
   "cell_type": "code",
   "execution_count": 7,
   "metadata": {},
   "outputs": [
    {
     "data": {
      "image/png": "[encoded data removed]",
      "text/plain": [
       "<Figure size 640x480 with 1 Axes>"
      ]
     },
     "metadata": {},
     "output_type": "display_data"
    }
   ],
   "source": [
    "from sklearn.cluster import KMeans\n",
    "import matplotlib.pyplot as plt\n",
    "import warnings\n",
    "warnings.filterwarnings(\"ignore\")\n",
    "\n",
    "# Different numbers of clusters were tested\n",
    "sse = []\n",
    "k_range = range(1, 11)  \n",
    "for k in k_range:\n",
    "    kmeans = KMeans(n_clusters=k, random_state=42)\n",
    "    kmeans.fit(X_scaled)\n",
    "    sse.append(kmeans.inertia_) \n",
    "\n",
    "# The Elbow curve were plot\n",
    "plt.plot(k_range, sse, marker='o')\n",
    "plt.xlabel('Number of clusters')\n",
    "plt.ylabel('Inertia (SSE)')\n",
    "plt.title('Elbow Method')\n",
    "plt.show()\n"
   ]
  },
  {
   "cell_type": "markdown",
   "metadata": {},
   "source": [
    "**4. Clustering and Validation Algorithms for Subsequent Comparison.**"
   ]
  },
  {
   "cell_type": "markdown",
   "metadata": {},
   "source": [
    "**a) K-Means Clustering Algorithm**"
   ]
  },
  {
   "cell_type": "code",
   "execution_count": 8,
   "metadata": {},
   "outputs": [
    {
     "name": "stdout",
     "output_type": "stream",
     "text": [
      "Silhouette Score: 0.4771646192722237\n",
      "Calinski-Harabasz Index: 58.26406529313848\n",
      "Davies-Bouldin Index: 0.6243265453457238\n"
     ]
    }
   ],
   "source": [
    "from sklearn.cluster import KMeans\n",
    "from sklearn.metrics import silhouette_score, calinski_harabasz_score, davies_bouldin_score\n",
    "\n",
    "# K-Means with 5 clusters were selected\n",
    "kmeans = KMeans(n_clusters=5, random_state=42)\n",
    "clusters = kmeans.fit_predict(X_scaled)\n",
    "\n",
    "# The metrics validation were calculated\n",
    "silhouette = silhouette_score(X_scaled, clusters)\n",
    "ch_score = calinski_harabasz_score(X_scaled, clusters)\n",
    "db_score = davies_bouldin_score(X_scaled, clusters)\n",
    "\n",
    "print(f'Silhouette Score: {silhouette}')\n",
    "print(f'Calinski-Harabasz Index: {ch_score}')\n",
    "print(f'Davies-Bouldin Index: {db_score}')"
   ]
  },
  {
   "cell_type": "markdown",
   "metadata": {},
   "source": [
    "**b) Agglomerative Clustering Algorithm**"
   ]
  },
  {
   "cell_type": "code",
   "execution_count": 9,
   "metadata": {},
   "outputs": [
    {
     "data": {
      "image/png": "[encoded data removed]",
      "text/plain": [
       "<Figure size 1000x700 with 1 Axes>"
      ]
     },
     "metadata": {},
     "output_type": "display_data"
    },
    {
     "name": "stdout",
     "output_type": "stream",
     "text": [
      "[2 2 2 2 2 2 2 2 2 3 2 1 1 1 1 1 1 1 1 1 1 1 1 1 1 2 2 0 0 0 0 0 0 0 0 0 0\n",
      " 0 0 4 4 4 4 4 0 0 0 4]\n"
     ]
    }
   ],
   "source": [
    "from sklearn.cluster import AgglomerativeClustering\n",
    "import matplotlib.pyplot as plt\n",
    "import scipy.cluster.hierarchy as shc\n",
    "\n",
    "# Dendrogram\n",
    "plt.figure(figsize=(10, 7))\n",
    "plt.title(\"Hierarchical Clustering Dendrogram\")\n",
    "dend = shc.dendrogram(shc.linkage(X_scaled, method='ward'))\n",
    "plt.show()\n",
    "\n",
    "# Agglomerative Clustering were applied\n",
    "agg_cluster = AgglomerativeClustering(n_clusters=5, affinity='euclidean', linkage='average')\n",
    "clusters = agg_cluster.fit_predict(X_scaled)\n",
    "\n",
    "# Print clusters\n",
    "print(clusters)\n"
   ]
  },
  {
   "cell_type": "code",
   "execution_count": 10,
   "metadata": {},
   "outputs": [
    {
     "name": "stdout",
     "output_type": "stream",
     "text": [
      "Silhouette Score: 0.4810361353947308\n",
      "Calinski-Harabasz Index: 58.051126835123775\n",
      "Davies-Bouldin Index: 0.6052563989809919\n"
     ]
    }
   ],
   "source": [
    "# Metric validation for Agglomerative Clustering algorithm were calculated\n",
    "silhouette = silhouette_score(X_scaled, clusters)\n",
    "ch_score = calinski_harabasz_score(X_scaled, clusters)\n",
    "db_score = davies_bouldin_score(X_scaled, clusters)\n",
    "\n",
    "print(f'Silhouette Score: {silhouette}')\n",
    "print(f'Calinski-Harabasz Index: {ch_score}')\n",
    "print(f'Davies-Bouldin Index: {db_score}')"
   ]
  },
  {
   "cell_type": "markdown",
   "metadata": {},
   "source": [
    "*After comparing both clustering methods, it can be inferred that the best results of the validation and adjustment methods for the present model are obtained from the agglomerative clustering method.*"
   ]
  },
  {
   "cell_type": "markdown",
   "metadata": {},
   "source": [
    "**5. Visualize the Clusters**"
   ]
  },
  {
   "cell_type": "code",
   "execution_count": 12,
   "metadata": {},
   "outputs": [
    {
     "data": {
      "image/png": "[encoded data removed]",
      "text/plain": [
       "<Figure size 800x600 with 2 Axes>"
      ]
     },
     "metadata": {},
     "output_type": "display_data"
    }
   ],
   "source": [
    "from sklearn.decomposition import PCA\n",
    "\n",
    "# The data was reduced to 2 components using the PCA technique of dimension reduction, just to show the results.\n",
    "pca = PCA(n_components=2)\n",
    "X_pca = pca.fit_transform(X_scaled)\n",
    "\n",
    "# Plot the clusters\n",
    "plt.figure(figsize=(8,6))\n",
    "plt.scatter(X_pca[:, 0], X_pca[:, 1], c=df['Cluster'], cmap='viridis', marker='o')\n",
    "plt.title('Cluster Visualization with PCA')\n",
    "plt.xlabel('Principal Component 1')\n",
    "plt.ylabel('Principal Component 2')\n",
    "plt.colorbar(label='Cluster')\n",
    "plt.show()\n"
   ]
  },
  {
   "cell_type": "markdown",
   "metadata": {},
   "source": [
    "**6. Interpret the Results**"
   ]
  },
  {
   "cell_type": "code",
   "execution_count": 13,
   "metadata": {},
   "outputs": [
    {
     "name": "stdout",
     "output_type": "stream",
     "text": [
      "           Year  Consumer price index (2010 = 100)  \\\n",
      "Cluster                                              \n",
      "0        2010.0                         100.000000   \n",
      "1        1993.5                          40.428213   \n",
      "2        1981.5                           0.000459   \n",
      "3        1985.0                           3.903100   \n",
      "4        2017.5                         144.020694   \n",
      "\n",
      "         Inflation consumer prices (%)  Inflation  GDP deflator (%)  \\\n",
      "Cluster                                                               \n",
      "0                             4.437381                     6.329992   \n",
      "1                            11.126765                    11.503744   \n",
      "2                            25.926659                    22.423059   \n",
      "3                         11749.639630                 12338.660220   \n",
      "4                             2.699823                     0.503275   \n",
      "\n",
      "         Lending interest rate (%)  Real interest rate (%)  \\\n",
      "Cluster                                                      \n",
      "0                        11.134948                4.770029   \n",
      "1                        43.662500               30.312945   \n",
      "2                        14.469883               10.658608   \n",
      "3                        14.469883               10.658608   \n",
      "4                         8.091573                7.992142   \n",
      "\n",
      "         Total debt service  Total debt service (% of GNI)  \\\n",
      "Cluster                                                      \n",
      "0                 12.901309                       4.021393   \n",
      "1                 33.918888                       6.160661   \n",
      "2                 35.835433                       6.981576   \n",
      "3                 50.298465                       7.411529   \n",
      "4                  9.961494                       2.692601   \n",
      "\n",
      "         Current account balance (% of GDP)  Current account balance (US$)  \\\n",
      "Cluster                                                                      \n",
      "0                                  3.912430                   8.737457e+08   \n",
      "1                                 -5.808730                  -4.059630e+08   \n",
      "2                                 -3.508418                  -2.259103e+08   \n",
      "3                                 -5.305660                  -2.853000e+08   \n",
      "4                                 -4.671234                  -1.811610e+09   \n",
      "\n",
      "         Trade (% of GDP)  Total Population  \\\n",
      "Cluster                                       \n",
      "0               74.537848        10223270.0   \n",
      "1               47.956047         7619105.5   \n",
      "2               50.522757         5927054.0   \n",
      "3               41.892791         6385630.0   \n",
      "4               56.907309        11521219.0   \n",
      "\n",
      "         Current account balance by population ($)  \n",
      "Cluster                                             \n",
      "0                                        80.938647  \n",
      "1                                       -49.734963  \n",
      "2                                       -30.155013  \n",
      "3                                       -44.678442  \n",
      "4                                      -157.305796  \n"
     ]
    }
   ],
   "source": [
    "# The average values of the indicators were calculated for each cluster\n",
    "cluster_summary = df.groupby('Cluster').median()\n",
    "print(cluster_summary)\n"
   ]
  },
  {
   "cell_type": "markdown",
   "metadata": {},
   "source": [
    "**7. Add cluster labels to the original dataframe and export to CSV.**"
   ]
  },
  {
   "cell_type": "code",
   "execution_count": 15,
   "metadata": {},
   "outputs": [
    {
     "name": "stdout",
     "output_type": "stream",
     "text": [
      "    Year  Cluster\n",
      "0   1976        2\n",
      "1   1977        2\n",
      "2   1978        2\n",
      "3   1979        2\n",
      "4   1980        2\n",
      "5   1981        2\n",
      "6   1982        2\n",
      "7   1983        2\n",
      "8   1984        2\n",
      "9   1985        3\n",
      "10  1986        2\n",
      "11  1987        1\n",
      "12  1988        1\n",
      "13  1989        1\n",
      "14  1990        1\n",
      "15  1991        1\n",
      "16  1992        1\n",
      "17  1993        1\n",
      "18  1994        1\n",
      "19  1995        1\n",
      "20  1996        1\n",
      "21  1997        1\n",
      "22  1998        1\n",
      "23  1999        1\n",
      "24  2000        1\n",
      "25  2001        2\n",
      "26  2002        2\n",
      "27  2003        0\n",
      "28  2004        0\n",
      "29  2005        0\n",
      "30  2006        0\n",
      "31  2007        0\n",
      "32  2008        0\n",
      "33  2009        0\n",
      "34  2010        0\n",
      "35  2011        0\n",
      "36  2012        0\n",
      "37  2013        0\n",
      "38  2014        0\n",
      "39  2015        4\n",
      "40  2016        4\n",
      "41  2017        4\n",
      "42  2018        4\n",
      "43  2019        4\n",
      "44  2020        0\n",
      "45  2021        0\n",
      "46  2022        0\n",
      "47  2023        4\n"
     ]
    }
   ],
   "source": [
    "df['Cluster'] = clusters\n",
    "df[['Year', 'Cluster']].to_csv(r'D:\\GAMIC\\PORTFOLIO\\MAPPING ECONOMIC SIMILARITIES\\02_CLUSTERING RESULTS\\Clustering_Results.csv', index=False)\n",
    "print(df[['Year', 'Cluster']])"
   ]
  }
 ],
 "metadata": {
  "kernelspec": {
   "display_name": "Python 3",
   "language": "python",
   "name": "python3"
  },
  "language_info": {
   "codemirror_mode": {
    "name": "ipython",
    "version": 3
   },
   "file_extension": ".py",
   "mimetype": "text/x-python",
   "name": "python",
   "nbconvert_exporter": "python",
   "pygments_lexer": "ipython3",
   "version": "3.10.1"
  }
 },
 "nbformat": 4,
 "nbformat_minor": 2
}
